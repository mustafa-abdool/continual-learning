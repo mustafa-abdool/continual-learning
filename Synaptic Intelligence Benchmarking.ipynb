{
 "cells": [
  {
   "cell_type": "code",
   "execution_count": 53,
   "id": "0bbbd132-ab2e-4df5-9976-e13504fff51c",
   "metadata": {},
   "outputs": [
    {
     "name": "stdout",
     "output_type": "stream",
     "text": [
      "The autoreload extension is already loaded. To reload it, use:\n",
      "  %reload_ext autoreload\n"
     ]
    }
   ],
   "source": [
    "\"\"\"\n",
    "This is a Python notebook to investigate the performance of Synaptic Intelligence (https://arxiv.org/pdf/1703.04200.pdf)\n",
    "to improve catastrophic forgetting in multi-task learning on two simple tasks.\n",
    "\n",
    "There are two tasks we train on:\n",
    "\n",
    "1.) MNIST\n",
    "2.) Fashion MNIST\n",
    "\n",
    "We essentially run two experiments in this notebook both using the same basic model (simple four layer model - 1 conv\n",
    "layer followed by 3 linear layers)\n",
    "\n",
    "a.) Train first on MNIST, then on Fashion MNIST. Evaluate performance on MNIST and observe catastrophic forgetting\n",
    "b.) Train first on MNIST, then on Fashion MNIST but use the Synaptic Intelligence strategy. Evaluate performance\n",
    "on MNIST and observe that catastrophic forgetting is reduced.\n",
    "\"\"\"\n",
    "\n",
    "# basic imports\n",
    "import numpy as np\n",
    "import json\n",
    "import random\n",
    "import itertools\n",
    "import pandas as pd\n",
    "import copy\n",
    "\n",
    "\n",
    "from tqdm.auto import tqdm, trange\n",
    "from collections import defaultdict\n",
    "\n",
    "\n",
    "import torch\n",
    "from torch import nn\n",
    "import torch.optim as optim\n",
    "from torch.nn import functional as F\n",
    "from tqdm.notebook import tqdm\n",
    "\n",
    "from PIL import Image\n",
    "from matplotlib import pyplot as plt\n",
    "from matplotlib.pyplot import imshow\n",
    "\n",
    "%load_ext autoreload\n",
    "%autoreload 2\n",
    "%matplotlib inline"
   ]
  },
  {
   "cell_type": "code",
   "execution_count": 54,
   "id": "132fbd0d-a3e1-4fb0-88b8-51b8dc003704",
   "metadata": {},
   "outputs": [],
   "source": [
    "from contlearn.getdata import getMNIST, getFashionMNIST\n",
    "\n",
    "# setup basic size and datasets\n",
    "batch_size = 128\n",
    "\n",
    "# task A training and test set\n",
    "train_loader_mnist, test_loader_mnist = getMNIST(batch_size=batch_size)\n",
    "\n",
    "# task B training and test set\n",
    "train_loader_fashion, test_loader_fashion = getFashionMNIST(batch_size=batch_size)"
   ]
  },
  {
   "cell_type": "code",
   "execution_count": 5,
   "id": "8e04bae9-971f-48bc-a446-bbd567102450",
   "metadata": {},
   "outputs": [
    {
     "name": "stdout",
     "output_type": "stream",
     "text": [
      "tensor(8)\n",
      "torch.Size([28, 28])\n"
     ]
    },
    {
     "data": {
      "text/plain": [
       "<matplotlib.image.AxesImage at 0x7fd3ec9da890>"
      ]
     },
     "execution_count": 5,
     "metadata": {},
     "output_type": "execute_result"
    },
    {
     "data": {
      "image/png": "[encoded data removed]",
      "text/plain": [
       "<Figure size 640x480 with 1 Axes>"
      ]
     },
     "metadata": {},
     "output_type": "display_data"
    }
   ],
   "source": [
    "# Plot example of image from the basic MNIST dataset\n",
    "\n",
    "input_image, target_label = next(iter(train_loader_mnist))\n",
    "\n",
    "print(target_label[0])\n",
    "print(input_image[0][0].shape)\n",
    "\n",
    "img = Image.fromarray(input_image[0][0].detach().cpu().numpy()*255)\n",
    "\n",
    "plt.imshow(img)"
   ]
  },
  {
   "cell_type": "code",
   "execution_count": 55,
   "id": "bff6d055-79cf-466b-a7da-880305753bb9",
   "metadata": {},
   "outputs": [
    {
     "name": "stdout",
     "output_type": "stream",
     "text": [
      "Trouser\n",
      "torch.Size([28, 28])\n"
     ]
    },
    {
     "data": {
      "text/plain": [
       "<matplotlib.image.AxesImage at 0x7fd3ec9d8820>"
      ]
     },
     "execution_count": 55,
     "metadata": {},
     "output_type": "execute_result"
    },
    {
     "data": {
      "image/png": "[encoded data removed]",
      "text/plain": [
       "<Figure size 640x480 with 1 Axes>"
      ]
     },
     "metadata": {},
     "output_type": "display_data"
    }
   ],
   "source": [
    "# Plot example from the fashion MNIST dataset\n",
    "\n",
    "input_image, target_label = next(iter(train_loader_fashion))\n",
    "\n",
    "fashion_key = {\n",
    "    0: \"T-shirt/top\",\n",
    "    1: \"Trouser\",\n",
    "    2: \"Pullover\",\n",
    "    3: \"Dress\",\n",
    "    4: \"Coat\",\n",
    "    5: \"Sandal\",\n",
    "    6: \"Shirt\",\n",
    "    7: \"Sneaker\",\n",
    "    8: \"Bag\",\n",
    "    9: \"Ankle boot\",\n",
    "}\n",
    "\n",
    "print(fashion_key[int(target_label[0].detach().cpu().numpy())])\n",
    "print(input_image[0][0].shape)\n",
    "\n",
    "img = Image.fromarray(input_image[0][0].detach().cpu().numpy()*255)\n",
    "\n",
    "plt.imshow(img)"
   ]
  },
  {
   "cell_type": "code",
   "execution_count": 56,
   "id": "aff78952-284d-4465-9aec-a8cadfff5c2d",
   "metadata": {},
   "outputs": [
    {
     "name": "stdout",
     "output_type": "stream",
     "text": [
      "you are using PyTorch version  1.12.0+cu113\n",
      "you have 1 GPUs\n",
      "cuda:0\n"
     ]
    }
   ],
   "source": [
    "# figure out if the user has a GPU or not\n",
    "\n",
    "from contlearn.getmodels import MLP,BasicCNN\n",
    "from contlearn.gettrainer import test, var2device\n",
    "\n",
    "print('you are using PyTorch version ',torch.__version__)\n",
    "\n",
    "if torch.cuda.is_available():\n",
    "    use_cuda = True\n",
    "    print(\"you have\", torch.cuda.device_count(), \"GPUs\")\n",
    "    device = torch.device(\"cuda:0\")\n",
    "    print(device)\n",
    "else:\n",
    "    use_cuda = False\n",
    "    print('no GPUs detected')\n",
    "    device = torch.device(\"cpu\")"
   ]
  },
  {
   "cell_type": "code",
   "execution_count": 57,
   "id": "fa90c0a1-56d1-4e45-87e4-944fe4a6fb27",
   "metadata": {},
   "outputs": [
    {
     "name": "stdout",
     "output_type": "stream",
     "text": [
      "Original shape: torch.Size([128, 1, 28, 28])\n",
      "torch.Size([128, 1, 28, 28])\n",
      "torch.Size([128, 10])\n"
     ]
    }
   ],
   "source": [
    "# test that a model can be initialized and sanity check the shapes\n",
    "\n",
    "model = BasicCNN(fmap_size=128)\n",
    "\n",
    "if torch.cuda.is_available() and use_cuda:\n",
    "    model.cuda()\n",
    "    \n",
    "# push an image through it\n",
    "input_image, target_label = next(iter(train_loader_fashion))\n",
    "print(\"Original shape: {}\".format(input_image.shape))\n",
    "input_image = var2device(input_image)\n",
    "print(input_image.shape)\n",
    "output = model(input_image)\n",
    "print(output.shape)"
   ]
  },
  {
   "cell_type": "code",
   "execution_count": 66,
   "id": "4761ee93-902f-4ee9-b6bf-f61b8a3ea177",
   "metadata": {},
   "outputs": [],
   "source": [
    "\"\"\"\n",
    "Train for one epoch given the input data loader and optimizer\n",
    "\"\"\"\n",
    "def one_epoch_baseline(model: nn.Module, data_loader: torch.utils.data.DataLoader, optimizer):\n",
    "    model.train()\n",
    "    epoch_loss = 0\n",
    "    for input, target in data_loader:\n",
    "        # no need for the channel dim\n",
    "        # bs,1,h,w -> bs,h,w\n",
    "        #input = input.squeeze(1) \n",
    "        input, target = var2device(input), var2device(target)\n",
    "        optimizer.zero_grad()\n",
    "        output = model(input)\n",
    "        loss = F.cross_entropy(output, target)\n",
    "        epoch_loss += loss.item()\n",
    "        loss.backward()\n",
    "        optimizer.step()\n",
    "    return epoch_loss / len(data_loader)\n",
    "\n",
    "\"\"\"\n",
    "    This function saves the training curve data consisting\n",
    "    training set loss and validation set accuracy over the\n",
    "    course of the epochs of training.\n",
    "    \n",
    "    I set this up such that if you provide 2 test sets,you\n",
    "    can watch the test accuracy change together during training\n",
    "    on train_loder (this is useful to evaluate performance of MNIST when training on FASHION_MNIST, for example)\n",
    "\"\"\"\n",
    "def baseline_training(\n",
    "    model, \n",
    "    epochs, \n",
    "    train_loader,\n",
    "    test_loader,\n",
    "    test2_loader = None,\n",
    "    use_cuda=True,\n",
    "    lr = 1e-3\n",
    "):\n",
    "    if torch.cuda.is_available() and use_cuda:\n",
    "        model.cuda()\n",
    "        \n",
    "    train_loss, val_acc, val2_acc = [], [], []\n",
    "    \n",
    "    optimizer = optim.Adam(model.parameters(), lr = lr)\n",
    "    \n",
    "    for epoch in tqdm(range(epochs)):\n",
    "\n",
    "        epoch_loss = one_epoch_baseline(model,train_loader, optimizer)\n",
    "        train_loss.append(epoch_loss)\n",
    "        \n",
    "        acc = test(model,test_loader)\n",
    "        val_acc.append(acc.detach().cpu().numpy())\n",
    "        \n",
    "        acc2 = None\n",
    "        if test2_loader is not None:\n",
    "            acc2 = test(model,test2_loader)\n",
    "            val2_acc.append(acc2.detach().cpu().numpy())\n",
    "            \n",
    "        \n",
    "        print(\"Epoch: {}, epoch_loss: {}, val_acc: {} val2_acc: {}\".format(epoch, epoch_loss, acc, val2_acc))\n",
    "            \n",
    "    return train_loss, val_acc, val2_acc, model "
   ]
  },
  {
   "cell_type": "code",
   "execution_count": 62,
   "id": "51cd5996-f3a7-4e41-8e61-478ccd70d188",
   "metadata": {},
   "outputs": [],
   "source": [
    "# Basic method to plot test accuracy on the mnist (and optionally fashion mnist) dataset\n",
    "def plot_validation_accs(mnist_val_accs, fashion_mnist_val_accs = None):\n",
    "    epochs = range(0, len(mnist_val_accs))\n",
    "    plt.plot(epochs, mnist_val_accs, label = 'mnist_validation_set')\n",
    "    if fashion_mnist_val_accs is not None:\n",
    "        plt.plot(epochs, fashion_mnist_val_accs, label = 'fashion_mnist_validation_set')\n",
    "    plt.xlabel('Epochs')\n",
    "    plt.ylabel('Accuracy')\n",
    "    plt.legend()"
   ]
  },
  {
   "cell_type": "code",
   "execution_count": 59,
   "id": "fb609c9d-2749-4532-bdab-2421d877d091",
   "metadata": {},
   "outputs": [
    {
     "data": {
      "application/vnd.jupyter.widget-view+json": {
       "model_id": "8104c6cf7d35406785134040f48c8ace",
       "version_major": 2,
       "version_minor": 0
      },
      "text/plain": [
       "  0%|          | 0/10 [00:01<?, ?it/s]"
      ]
     },
     "metadata": {},
     "output_type": "display_data"
    },
    {
     "name": "stdout",
     "output_type": "stream",
     "text": [
      "Epoch: 0, epoch_loss: 0.2638451199668811, val_acc: 0.9672999978065491 val2_acc: None\n",
      "Epoch: 1, epoch_loss: 0.0745071353815766, val_acc: 0.9786999821662903 val2_acc: None\n",
      "Epoch: 2, epoch_loss: 0.044331399988986726, val_acc: 0.981499969959259 val2_acc: None\n",
      "Epoch: 3, epoch_loss: 0.028924557302437072, val_acc: 0.9858999848365784 val2_acc: None\n",
      "Epoch: 4, epoch_loss: 0.019608880582350944, val_acc: 0.9840999841690063 val2_acc: None\n",
      "Epoch: 5, epoch_loss: 0.01378172191481954, val_acc: 0.9842999577522278 val2_acc: None\n",
      "Epoch: 6, epoch_loss: 0.009662266446104737, val_acc: 0.9818999767303467 val2_acc: None\n",
      "Epoch: 7, epoch_loss: 0.009683305512540223, val_acc: 0.9840999841690063 val2_acc: None\n",
      "Epoch: 8, epoch_loss: 0.007708760593751711, val_acc: 0.9828999638557434 val2_acc: None\n",
      "Epoch: 9, epoch_loss: 0.006298609856527727, val_acc: 0.9835000038146973 val2_acc: None\n"
     ]
    }
   ],
   "source": [
    "\"\"\"\n",
    "Experiment A: Train on MNIST, and then fashion MNIST\n",
    "\"\"\"\n",
    "learning_rate = 1e-3\n",
    "\n",
    "torch.manual_seed(0)\n",
    "np.random.seed(0)\n",
    "random.seed(0)\n",
    "\n",
    "train_loss, val_acc, val2_acc,  model = baseline_training(\n",
    "    model,\n",
    "    epochs = 10,\n",
    "    train_loader = train_loader_mnist,\n",
    "    test_loader = test_loader_mnist,\n",
    "    lr = learning_rate\n",
    ")"
   ]
  },
  {
   "cell_type": "code",
   "execution_count": 63,
   "id": "68a0267d-450d-452a-bdcb-0cd3d53b3d37",
   "metadata": {},
   "outputs": [
    {
     "data": {
      "image/png": "[encoded data removed]",
      "text/plain": [
       "<Figure size 640x480 with 1 Axes>"
      ]
     },
     "metadata": {},
     "output_type": "display_data"
    }
   ],
   "source": [
    "# Verify that we can solve MNIST pretty handily\n",
    "\n",
    "plot_validation_accs(val_acc)"
   ]
  },
  {
   "cell_type": "code",
   "execution_count": 67,
   "id": "499d00a8-bff6-4b5f-9700-8e88a535a65e",
   "metadata": {},
   "outputs": [
    {
     "data": {
      "application/vnd.jupyter.widget-view+json": {
       "model_id": "a15b251df38e45a1a5233f70b8a215d9",
       "version_major": 2,
       "version_minor": 0
      },
      "text/plain": [
       "  0%|          | 0/10 [00:00<?, ?it/s]"
      ]
     },
     "metadata": {},
     "output_type": "display_data"
    },
    {
     "name": "stdout",
     "output_type": "stream",
     "text": [
      "Epoch: 0, epoch_loss: 0.2623609897297329, val_acc: 0.8894999623298645 val2_acc: [array(0.4603, dtype=float32)]\n",
      "Epoch: 1, epoch_loss: 0.19298598246533732, val_acc: 0.9014999866485596 val2_acc: [array(0.4603, dtype=float32), array(0.4877, dtype=float32)]\n",
      "Epoch: 2, epoch_loss: 0.15001005770714043, val_acc: 0.9038999676704407 val2_acc: [array(0.4603, dtype=float32), array(0.4877, dtype=float32), array(0.4278, dtype=float32)]\n",
      "Epoch: 3, epoch_loss: 0.11563710030764024, val_acc: 0.9054999947547913 val2_acc: [array(0.4603, dtype=float32), array(0.4877, dtype=float32), array(0.4278, dtype=float32), array(0.4283, dtype=float32)]\n",
      "Epoch: 4, epoch_loss: 0.09035650782112374, val_acc: 0.9097999930381775 val2_acc: [array(0.4603, dtype=float32), array(0.4877, dtype=float32), array(0.4278, dtype=float32), array(0.4283, dtype=float32), array(0.3972, dtype=float32)]\n",
      "Epoch: 5, epoch_loss: 0.07049754153547892, val_acc: 0.9041000008583069 val2_acc: [array(0.4603, dtype=float32), array(0.4877, dtype=float32), array(0.4278, dtype=float32), array(0.4283, dtype=float32), array(0.3972, dtype=float32), array(0.39249998, dtype=float32)]\n",
      "Epoch: 6, epoch_loss: 0.05660271703072988, val_acc: 0.9044999480247498 val2_acc: [array(0.4603, dtype=float32), array(0.4877, dtype=float32), array(0.4278, dtype=float32), array(0.4283, dtype=float32), array(0.3972, dtype=float32), array(0.39249998, dtype=float32), array(0.3825, dtype=float32)]\n",
      "Epoch: 7, epoch_loss: 0.04519145516579403, val_acc: 0.906499981880188 val2_acc: [array(0.4603, dtype=float32), array(0.4877, dtype=float32), array(0.4278, dtype=float32), array(0.4283, dtype=float32), array(0.3972, dtype=float32), array(0.39249998, dtype=float32), array(0.3825, dtype=float32), array(0.3511, dtype=float32)]\n",
      "Epoch: 8, epoch_loss: 0.03692490379956525, val_acc: 0.9065999984741211 val2_acc: [array(0.4603, dtype=float32), array(0.4877, dtype=float32), array(0.4278, dtype=float32), array(0.4283, dtype=float32), array(0.3972, dtype=float32), array(0.39249998, dtype=float32), array(0.3825, dtype=float32), array(0.3511, dtype=float32), array(0.375, dtype=float32)]\n",
      "Epoch: 9, epoch_loss: 0.031857255564780154, val_acc: 0.9093999862670898 val2_acc: [array(0.4603, dtype=float32), array(0.4877, dtype=float32), array(0.4278, dtype=float32), array(0.4283, dtype=float32), array(0.3972, dtype=float32), array(0.39249998, dtype=float32), array(0.3825, dtype=float32), array(0.3511, dtype=float32), array(0.375, dtype=float32), array(0.3958, dtype=float32)]\n"
     ]
    }
   ],
   "source": [
    "# now, train the same model on fashion MNIST (after training on MNIST)\n",
    "\n",
    "train_loss, val_acc, val2_acc,  model = baseline_training(\n",
    "    model,\n",
    "    epochs = 10,\n",
    "    train_loader = train_loader_fashion,\n",
    "    test_loader = test_loader_fashion,\n",
    "    test2_loader = test_loader_mnist,\n",
    "    lr = learning_rate\n",
    ")"
   ]
  },
  {
   "cell_type": "code",
   "execution_count": 76,
   "id": "ce995a3b-90ef-4b4a-a0cd-ecea839aee70",
   "metadata": {},
   "outputs": [
    {
     "data": {
      "image/png": "[encoded data removed]",
      "text/plain": [
       "<Figure size 640x480 with 1 Axes>"
      ]
     },
     "metadata": {},
     "output_type": "display_data"
    }
   ],
   "source": [
    "# Now plot performance on basic MNIST after training on fashion MNIST, and observe clear catastrophic forgetting\n",
    "\n",
    "plot_validation_accs(val2_acc, val_acc)"
   ]
  },
  {
   "cell_type": "code",
   "execution_count": 69,
   "id": "bfbfe1f4-015a-42c8-b041-a2b75f2f2722",
   "metadata": {},
   "outputs": [],
   "source": [
    "\n",
    "\"\"\"\n",
    "This class encapulates the training of a pytorch model in a multi-task setting when using Synaptic Intelligence.\n",
    "\n",
    "The main way to use this class is to:\n",
    "\n",
    "1.) Call train(...) to train on a task and record variables needed for SI (product of gradient and how far each param moved)\n",
    "2.) Call finish_task(...) to compute importance weights required for SI\n",
    "3.) Call init_new_task(...) to setup a new task to train on\n",
    "\n",
    "\n",
    "These are a few improvements and cavaets to note:\n",
    "\n",
    "1.) The loss function for the model is hardcoded within the \"train\" method for this particular toy problem. Ideally,\n",
    "we can pass in a generic method to compute the loss given the dataset\n",
    "\n",
    "2.) Due to way pytorch optimizers work, there's no way to get \"how much\" a parameter \"would\" be updated by without\n",
    "actually running the optimizer. This means that we actually have to do backprop twice for the normal part of the loss\n",
    "and then for the \"regularization\" part of the loss instead of computing the loss together and doing one backprop step.\n",
    "This makes things slightly inefficient and not exactly as presented in the paper, but unless we are using an optimizer\n",
    "with a \"known\" way of how much each parameter gets updated (like SGD), then I don't see a way around this.\n",
    "\n",
    "\"\"\"\n",
    "class SITrainer:\n",
    "    \n",
    "    \n",
    "    def init_new_task(self, task_name, debug=False):        \n",
    "        # reset small omega dict\n",
    "        self.param_importance_current_task = dict()\n",
    "        for n, p in self.model.named_parameters():\n",
    "            self.param_importance_current_task[n] = torch.zeros(p.shape)\n",
    "            if not debug:\n",
    "                self.param_importance_current_task[n] = var2device(self.param_importance_current_task[n])\n",
    "            \n",
    "        \n",
    "        # update task name and make sure \"finish_task\" was called first by checking if current_task was None?\n",
    "        assert self.current_task == None\n",
    "        self.current_task = task_name\n",
    "        \n",
    "    \n",
    "    # calculate the big omegas the params with the current task and save the final snapshot of params for this task\n",
    "    # if \"validate_importance_vals = True\" then check that all the importance parameters for this task were >= 0\n",
    "    def finish_task(self, debug = False, validate_importance_vals = True):\n",
    "        \n",
    "        # make sure finish_task is not called twice in a row\n",
    "        assert self.current_task != None\n",
    "        \n",
    "        # stores map from var_name --> big omega (importance)\n",
    "        self.prev_tasks_to_final_importance_params[self.current_task] = dict()\n",
    "        \n",
    "        # store snapshot of the final weights learned when training on this task\n",
    "        snapshot_of_task_weights = dict()\n",
    "        \n",
    "        \n",
    "        # save all the params at the end of training this task \n",
    "        for n, p in self.model.named_parameters():\n",
    "            \n",
    "            current_param_value = p.clone().detach()\n",
    "            delta_from_prev_task = current_param_value\n",
    "            \n",
    "            # if we aren't the first task, then need to subtract from where we stopped in the last task to get how far we are\n",
    "            if self.snapshot_of_prev_task_weights != None:\n",
    "                delta_from_prev_task = current_param_value - self.snapshot_of_prev_task_weights[n]\n",
    "            \n",
    "            denominator = delta_from_prev_task ** 2 + self.epsilon\n",
    "            numerator = self.param_importance_current_task[n]\n",
    "            \n",
    "            if validate_importance_vals:\n",
    "                print(\"doing validation for param {}...\".format(n))\n",
    "                assert torch.all(numerator >= 0)\n",
    "            \n",
    "            omega_val = torch.div(numerator, denominator)\n",
    "            \n",
    "            if debug:\n",
    "                print(\"Processing omega for param: {}, shape is: {}\".format(n, omega_val.shape))\n",
    "            \n",
    "            # record omega value for this task\n",
    "            self.prev_tasks_to_final_importance_params[self.current_task][n] = omega_val\n",
    "            \n",
    "            # record the new snapshot value, as this is now the latest task\n",
    "            snapshot_of_task_weights[n] = current_param_value\n",
    "        \n",
    "        # add to current task to list of tasks that were completed\n",
    "        self.tasks.append(self.current_task)\n",
    "        \n",
    "        # update the current last set of weights and set current_task to None\n",
    "        self.snapshot_of_prev_task_weights = snapshot_of_task_weights\n",
    "        self.current_task = None\n",
    "        \n",
    "\n",
    "    \n",
    "    def __init__(self, model, optim, initial_task, lambda_weight = 1.0, debug = False):\n",
    "        self.model = model\n",
    "        self.optim = optim\n",
    "        \n",
    "        self.tasks = []\n",
    "        self.current_task = None\n",
    "        self.param_importance_current_task = dict()\n",
    "        \n",
    "        # dictionary from task name, which holds a dictionary from param_name --> big omega value\n",
    "        self.prev_tasks_to_final_importance_params = dict()\n",
    "        \n",
    "        # snapshot of weights from the last task completed\n",
    "        self.snapshot_of_prev_task_weights = None\n",
    "        \n",
    "        self.init_new_task(initial_task, debug = debug)\n",
    "        \n",
    "        # for blending importance weights\n",
    "        self.regularization_lambda = lambda_weight\n",
    "        \n",
    "        # for normalization term in the denominator\n",
    "        self.epsilon = 1e-3\n",
    "        \n",
    "    \n",
    "    # shape: same as the shape of param (we're just accumulating it)\n",
    "    def get_importance_all_prev_tasks(self, param_name, debug = False):\n",
    "        \n",
    "        if debug:\n",
    "            print(\"Trying to process importance for all past tasks: {}\".format(self.tasks))\n",
    "        \n",
    "        total_importance_all_prev_tasks = 0\n",
    "    \n",
    "        for prev_task_name in self.tasks:\n",
    "            if debug:\n",
    "                print(\"Shape of importance var for param {} and task: {}, is: {}\".format(param_name, prev_task_name, self.prev_tasks_to_final_importance_params[prev_task_name][param_name].shape))\n",
    "            total_importance_all_prev_tasks += self.prev_tasks_to_final_importance_params[prev_task_name][param_name]\n",
    "            \n",
    "        return total_importance_all_prev_tasks\n",
    "    \n",
    "    \n",
    "    # note: all importance values should be > 0 if you do enough training steps\n",
    "    def inspect_importance_values_previous_tasks(self, param_name, debug = True):\n",
    "        \n",
    "        if debug:\n",
    "            print(\"Trying to process importance for all past tasks: {}\".format(self.tasks))\n",
    "        \n",
    "        total_importance_all_prev_tasks = 0\n",
    "    \n",
    "        for prev_task_name in self.tasks:\n",
    "            \n",
    "            importance_prev_task = self.prev_tasks_to_final_importance_params[prev_task_name][param_name]\n",
    "            total_importance = torch.sum(importance_prev_task)\n",
    "            avg_importance = torch.mean(importance_prev_task)\n",
    "            min_value = torch.min(importance_prev_task)\n",
    "            \n",
    "            if debug:\n",
    "                print(\"Shape of importance var for param {} and task: {}, is: {}, total sum is: {}, avg: {}, min: {}\".format(param_name, prev_task_name, self.prev_tasks_to_final_importance_params[prev_task_name][param_name].shape, total_importance, avg_importance, min_value))\n",
    "            total_importance_all_prev_tasks += importance_prev_task\n",
    "            \n",
    "        return total_importance_all_prev_tasks\n",
    "    \n",
    "    \n",
    "    def train(self, epochs, train_loader: torch.utils.data.DataLoader, test_loader: torch.utils.data.DataLoader\n",
    "              , alternative_test_loader: torch.utils.data.DataLoader = None, debug = False):\n",
    "        \n",
    "        train_loss_unreg, train_loss_reg, val_acc, val2_acc = [], [], [], []\n",
    "\n",
    "        for epoch in tqdm(range(epochs)):\n",
    "\n",
    "            epoch_loss_unreg, epoch_loss_reg = self.one_epoch_update(train_loader, debug = debug)\n",
    "            train_loss_unreg.append(epoch_loss_unreg)\n",
    "            train_loss_reg.append(epoch_loss_reg)\n",
    "\n",
    "            acc = test(self.model,test_loader)\n",
    "            val_acc.append(acc.item()) #detach().cpu().numpy())\n",
    "            print(\"Completed epoch {}, latest val accuracy is: {}, epoch loss unreg: {}, epoch loss reg: {}\".format(epoch, acc.item(), epoch_loss_unreg, epoch_loss_reg))\n",
    "\n",
    "            if alternative_test_loader is not None:\n",
    "                acc2 = test(self.model,alternative_test_loader)\n",
    "                val2_acc.append(acc2.item()) #.detach().cpu().numpy())\n",
    "                print(\"Completed epoch {}, latest alternative val accuracy is: {}\".format(epoch, acc2.item()))\n",
    "\n",
    "        return train_loss_unreg, train_loss_reg, val_acc, val2_acc      \n",
    "    \n",
    "    # todo (Moose): could probably be simplified if we just assume there's a way to map from gradient \n",
    "    # to how much each \"param\" will move (ie. SGD)\n",
    "    # todo (Moose): maybe allow user to specify to just train on X number of batches\n",
    "    def one_epoch_update(self,  data_loader: torch.utils.data.DataLoader, debug = False):     \n",
    "        \n",
    "        # make sure a valid task has been assigned\n",
    "        assert self.current_task != None\n",
    "        \n",
    "        param_to_gradients_for_current_task = dict()\n",
    "        unreg_epoch_loss = 0\n",
    "        regularlization_epoch_loss = 0\n",
    "        \n",
    "        for input, target in data_loader:\n",
    "            \n",
    "            # 1.Save current parameters and current offsets from the previous task snapshot\n",
    "            \n",
    "            old_params = {}\n",
    "            \n",
    "            # delta is difference between current param and final params at the end of the last task.\n",
    "            delta_from_prev_task_snapshot = {}\n",
    "            for n, p in self.model.named_parameters():\n",
    "                old_params[n] = p.clone().detach()\n",
    "                if self.snapshot_of_prev_task_weights != None:\n",
    "                    delta_from_prev_task_snapshot[n] = old_params[n] - self.snapshot_of_prev_task_weights[n]\n",
    "\n",
    "            \n",
    "            # 2. Collect the gradients without regularization term, just use normal XEntropy loss \n",
    "\n",
    "            # keep things on CPU for better debugging if requested\n",
    "            if not debug:\n",
    "                input, target = var2device(input), var2device(target)\n",
    "            \n",
    "            # zero out the optimizer first \n",
    "            self.optim.zero_grad()\n",
    "            \n",
    "            output = self.model(input)\n",
    "            loss = F.cross_entropy(output, target)\n",
    "        \n",
    "            #  We need retain graph here, see https://stackoverflow.com/questions/46774641/what-does-the-parameter-retain-graph-mean-in-the-variables-backward-method\n",
    "            loss.backward(retain_graph=True) \n",
    "            \n",
    "            for n, p in self.model.named_parameters():\n",
    "                if p.grad is not None:\n",
    "                    param_to_gradients_for_current_task[n] = p.grad.clone().detach() # do we need to clone this ? Yes, because we are doing the zero_grad thing here?\n",
    "                if debug:\n",
    "                    print(\"Shape of grad tensor in original grad calculation is: {}\".format(p.grad.shape))\n",
    "\n",
    "            # 3. Normal update with regularization (once we've recorded the gradients)\n",
    "            # todo (Moose): replace this with a generic way to get the usual loss function for a task \n",
    "            loss = F.cross_entropy(output, target)\n",
    "            self.optim.zero_grad()\n",
    "            loss.backward() # don't need retain-graph here because we are really doing backprop twice ?\n",
    "            self.optim.step()\n",
    "\n",
    "            # 4. Accumulate the small w for this task \n",
    "            for n, p in self.model.named_parameters():\n",
    "                delta = p.detach() - old_params[n]\n",
    "                if n in param_to_gradients_for_current_task.keys():  # In multi-head network, some head could have no grad (lazy) since no loss go through it.\n",
    "                    self.param_importance_current_task[n] -= param_to_gradients_for_current_task[n] * delta  # w[n] is >=0 (todo - Moose - is this always true? random guy says it in his code)\n",
    "                else:\n",
    "                    print(\"WARNING!!! no grad found for variable: {}\",format(p))\n",
    "                    \n",
    "            # acumulate the total loss (before the regularization term)\n",
    "            unreg_epoch_loss += loss.item()\n",
    "            \n",
    "            if debug:\n",
    "                print(\"==== finished getting the omegas ====\")\n",
    "            \n",
    "            \n",
    "            # 5. NOW: incorperate the loss term for the regularization portion if we had some previous tasks\n",
    "            # this is a bit tricky since we want to get the value \"before\" the first part of the gradient update ?\n",
    "            if self.snapshot_of_prev_task_weights != None:\n",
    "                \n",
    "                \n",
    "                if debug:\n",
    "                    print(\"==== starting SI stuff ====\")\n",
    "                \n",
    "                # zero the grads again before the second update (based on regularization)\n",
    "                self.optim.zero_grad()\n",
    "                \n",
    "                total_reg_loss = 0\n",
    "                \n",
    "                # compute regularization loss for each param\n",
    "                for n, p in self.model.named_parameters():\n",
    "                    \n",
    "                    if debug:\n",
    "                        print(\"==== processing SI For param: {} ====\".format(n))\n",
    "                        \n",
    "                    # shape: same as param\n",
    "                    param_total_importance_all_past_tasks = self.get_importance_all_prev_tasks(n, debug = debug)\n",
    "                    \n",
    "                    # shape: same as param\n",
    "                    # need to use the current param_value MINUS the value at the end of the last task update (a constant)\n",
    "                    # at this point in the code, we always have >= 2 tasks, so no need to use zeros in case for the prev task\n",
    "                    param_delta_from_last_task_sq = (p - self.snapshot_of_prev_task_weights[n])**2\n",
    "                    \n",
    "                    if debug:\n",
    "                        print(\"=====Shape of total param importance: {}, shape of param delta: {}\".format(param_total_importance_all_past_tasks.shape, param_delta_from_last_task_sq.shape))\n",
    "                        \n",
    "                    \n",
    "                    # element-wise multiplication between omega values and the real param\n",
    "                    # then take the sum since obviously have multiple weights per param, and we need to get back to a scalar\n",
    "                    reg_loss_for_param = torch.mul(param_total_importance_all_past_tasks, param_delta_from_last_task_sq)\n",
    "                    \n",
    "\n",
    "                    # one param in the pytorch world probably has multiple individual weights, we want to just sum over all of them\n",
    "                    # since the loss is a single scalar\n",
    "                    final_reg_loss_for_param = torch.sum(reg_loss_for_param)\n",
    "\n",
    "                    if debug:\n",
    "                        print(\"Param total importance for all past tasks is: {}, param delta sum is: {}\".format(torch.sum(param_total_importance_all_past_tasks), torch.sum(param_delta_from_last_task_sq)))\n",
    "                        print(\"reg loss for this param is: {}, final reg loss is: {}\".format(reg_loss_for_param.shape, final_reg_loss_for_param))                   \n",
    "                    \n",
    "                    total_reg_loss += final_reg_loss_for_param\n",
    "                \n",
    "                \n",
    "                scaled_reg_loss = self.regularization_lambda * total_reg_loss\n",
    "                regularlization_epoch_loss += scaled_reg_loss\n",
    "                \n",
    "                if debug:\n",
    "                    print(\"====Total reg loss: {}, scaled reg loss: {}, Scaled reg loss has shape: {}\".format(total_reg_loss, scaled_reg_loss, scaled_reg_loss.shape))\n",
    "                \n",
    "                scaled_reg_loss.backward()\n",
    "                self.optim.step() # update based on the regularization loss\n",
    "            \n",
    "            \n",
    "            if debug:\n",
    "                # maybe print the average value in each param\n",
    "                for k,v in self.param_importance_current_task.items():\n",
    "                    print(\"param: {}, average small omega: {}\".format(k, torch.mean(v)))\n",
    "                print(\"Task is: {}\".format(self.current_task))\n",
    "                print(\"Breaking out of loop...\")\n",
    "                break\n",
    "        \n",
    "        return unreg_epoch_loss / len(data_loader), regularlization_epoch_loss / len(data_loader)"
   ]
  },
  {
   "cell_type": "code",
   "execution_count": 70,
   "id": "37b5eb67-ca8d-4ade-8ceb-a5468ad2a8f8",
   "metadata": {},
   "outputs": [
    {
     "data": {
      "application/vnd.jupyter.widget-view+json": {
       "model_id": "ff1114860ae9402db1441bb73d2b2c74",
       "version_major": 2,
       "version_minor": 0
      },
      "text/plain": [
       "  0%|          | 0/10 [00:02<?, ?it/s]"
      ]
     },
     "metadata": {},
     "output_type": "display_data"
    },
    {
     "name": "stdout",
     "output_type": "stream",
     "text": [
      "Completed epoch 0, latest val accuracy is: 0.9711999893188477, epoch loss unreg: 0.29219775130626746, epoch loss reg: 0.0\n",
      "Completed epoch 1, latest val accuracy is: 0.9810999631881714, epoch loss unreg: 0.07884514131652776, epoch loss reg: 0.0\n",
      "Completed epoch 2, latest val accuracy is: 0.9836999773979187, epoch loss unreg: 0.04950666773134966, epoch loss reg: 0.0\n",
      "Completed epoch 3, latest val accuracy is: 0.982699990272522, epoch loss unreg: 0.03162501087295078, epoch loss reg: 0.0\n",
      "Completed epoch 4, latest val accuracy is: 0.9822999835014343, epoch loss unreg: 0.02362085952322239, epoch loss reg: 0.0\n",
      "Completed epoch 5, latest val accuracy is: 0.9822999835014343, epoch loss unreg: 0.01638307229644045, epoch loss reg: 0.0\n",
      "Completed epoch 6, latest val accuracy is: 0.9860999584197998, epoch loss unreg: 0.011950988631437608, epoch loss reg: 0.0\n",
      "Completed epoch 7, latest val accuracy is: 0.9824999570846558, epoch loss unreg: 0.010273198698934512, epoch loss reg: 0.0\n",
      "Completed epoch 8, latest val accuracy is: 0.9784999489784241, epoch loss unreg: 0.00810041621416201, epoch loss reg: 0.0\n",
      "Completed epoch 9, latest val accuracy is: 0.9812999963760376, epoch loss unreg: 0.00932609435883095, epoch loss reg: 0.0\n"
     ]
    }
   ],
   "source": [
    "\"\"\"\n",
    "Experiment B - Train on MNIST and then Fashion MNIST using the SI Trainer\n",
    "\"\"\"\n",
    "\n",
    "\n",
    "new_model_v3 = BasicCNN(fmap_size=128)\n",
    "should_debug=False\n",
    "n_epochs = 10\n",
    "\n",
    "if torch.cuda.is_available() and use_cuda and not should_debug:\n",
    "    new_model_v3.cuda()\n",
    "\n",
    "optimizer = optim.Adam(params=new_model_v3.parameters(), lr=1e-3)\n",
    "\n",
    "trainer = SITrainer(new_model_v3, optimizer, initial_task = 'test_task', lambda_weight = 0.15, debug=should_debug)\n",
    "mnist_reg_losses, mnist_unreg_losses, mnist_val_accs, mnist_alternative_val_accs = trainer.train(epochs = n_epochs, train_loader= train_loader_mnist, test_loader = test_loader_mnist)"
   ]
  },
  {
   "cell_type": "code",
   "execution_count": 71,
   "id": "fe3c4e6e-82eb-41b8-b555-452af201b59e",
   "metadata": {},
   "outputs": [
    {
     "data": {
      "image/png": "[encoded data removed]",
      "text/plain": [
       "<Figure size 640x480 with 1 Axes>"
      ]
     },
     "metadata": {},
     "output_type": "display_data"
    }
   ],
   "source": [
    "# plot test accuracy on mnist validation, just to sanity check \n",
    "\n",
    "plot_validation_accs(mnist_val_accs)"
   ]
  },
  {
   "cell_type": "code",
   "execution_count": 72,
   "id": "874bd5ac-1b46-4f44-82a7-3825d331f1dc",
   "metadata": {},
   "outputs": [
    {
     "name": "stdout",
     "output_type": "stream",
     "text": [
      "doing validation for param conv1.weight...\n",
      "doing validation for param conv1.bias...\n",
      "doing validation for param fc1.weight...\n",
      "doing validation for param fc1.bias...\n",
      "doing validation for param fc2.weight...\n",
      "doing validation for param fc2.bias...\n",
      "doing validation for param fc3.weight...\n",
      "doing validation for param fc3.bias...\n"
     ]
    }
   ],
   "source": [
    "# finsih the mnist task and start a new one\n",
    "trainer.finish_task()\n",
    "trainer.init_new_task(\"fashion_mnist\")"
   ]
  },
  {
   "cell_type": "code",
   "execution_count": 75,
   "id": "45b4787e-be7d-4ada-835a-4448ec575b94",
   "metadata": {},
   "outputs": [
    {
     "data": {
      "application/vnd.jupyter.widget-view+json": {
       "model_id": "a872c7ef1430473a9fc55fa40a8f782a",
       "version_major": 2,
       "version_minor": 0
      },
      "text/plain": [
       "  0%|          | 0/1 [00:00<?, ?it/s]"
      ]
     },
     "metadata": {},
     "output_type": "display_data"
    },
    {
     "name": "stdout",
     "output_type": "stream",
     "text": [
      "Completed epoch 0, latest val accuracy is: 0.870199978351593, epoch loss unreg: 0.14438035999978782, epoch loss reg: 0.1686432957649231\n",
      "Completed epoch 0, latest alternative val accuracy is: 0.7619999647140503\n"
     ]
    }
   ],
   "source": [
    "# now train on fashion MNIST task\n",
    "\n",
    "n_epochs = 10\n",
    "si_fashion_mnist_reg_losses, si_fashion_mnist_unreg_losses, si_fashion_mnist_val_accs, si_mnist_val_accs_retrain = new_trainer.train(epochs = n_epochs, \n",
    "                                                                         train_loader= train_loader_fashion,\n",
    "                                                                         test_loader = test_loader_fashion,\n",
    "                                                                         alternative_test_loader = test_loader_mnist)\n"
   ]
  },
  {
   "cell_type": "code",
   "execution_count": 74,
   "id": "973af9ca-cf56-4e74-9bb3-f29c99250175",
   "metadata": {},
   "outputs": [
    {
     "data": {
      "image/png": "[encoded data removed]",
      "text/plain": [
       "<Figure size 640x480 with 1 Axes>"
      ]
     },
     "metadata": {},
     "output_type": "display_data"
    }
   ],
   "source": [
    "# plot validation acc's after training on fashion MNIST task\n",
    "\n",
    "# We can now observe the impact of catastrophic forgetting has been greatly reduced\n",
    "\n",
    "plot_validation_accs(si_mnist_val_accs_retrain,si_fashion_mnist_val_accs)"
   ]
  },
  {
   "cell_type": "code",
   "execution_count": 38,
   "id": "7cb7999c-86f2-46cb-afe6-317b53ca34a7",
   "metadata": {},
   "outputs": [],
   "source": [
    "## Appendix: some preliminary code to save and restore using SI trainer (still kind of messy)\n",
    "\n",
    "\n",
    "# save the trained model\n",
    "new_model_v3 = new_model_v3.cpu()\n",
    "torch.save(new_model_v3, \"saved_models/adam_128bs_1e3_si_trainer_cnn_98acc.pth\")\n",
    "new_model_v3.cuda()\n",
    "\n",
    "# save importance weights and snapshot of previous weights to make restoring possible for other trials\n",
    "import pickle\n",
    "\n",
    "snapshot_file = open('mnist_si_snapshot_prev_weights_cnn.pk', 'wb')\n",
    "importance_params_file = open('mnist_si_prev_task_to_final_importance_params_cnn.pk', 'wb')\n",
    "pickle.dump(trainer.snapshot_of_prev_task_weights, snapshot_file)\n",
    "pickle.dump(trainer.prev_tasks_to_final_importance_params, importance_params_file)\n",
    "\n",
    "importance_params_file.close()\n",
    "snapshot_file.close()\n",
    "\n",
    "\n",
    "# load back\n",
    "\n",
    "snapshot_file = open('mnist_si_snapshot_prev_weights_cnn.pk', 'rb')\n",
    "importance_params_file = open('mnist_si_prev_task_to_final_importance_params_cnn.pk', 'rb')\n",
    "\n",
    "snapshot_prev_weights_restored = pickle.load(snapshot_file)\n",
    "importance_params_restored = pickle.load(importance_params_file)\n",
    "\n",
    "snapshot_file.close()\n",
    "importance_params_file.close()\n",
    "\n",
    "\n",
    "# restore model\n",
    "\n",
    "# Basically, we can restore the model from a checkpoint and then train on fashion-MNIST but use SI\n",
    "restored_model = torch.load(\"saved_models/adam_128bs_5e3_lr_si_trainer_889acc_before_si_cnn.pth\")\n",
    "restored_model.cuda()\n",
    "\n",
    "\n",
    "# need to create an optimizer with the params of a new model cause we restored it\n",
    "new_optimizer = optim.Adam(params=restored_model.parameters(), lr=5e-3)\n",
    "\n",
    "# \n",
    "new_trainer = SITrainer(restored_model, new_optimizer, initial_task = 'mnist_task', lambda_weight = 0.15, debug=should_debug)\n",
    "new_trainer.finish_task() # I think this causes issues because we aren't restoring the prev weights stuff\n",
    "\n",
    "# === better way to restore the importance map ======\n",
    "\n",
    "snapshot_file = open('mnist_si_snapshot_prev_weights_cnn.pk', 'rb')\n",
    "importance_params_file = open('mnist_si_prev_task_to_final_importance_params_cnn.pk', 'rb')\n",
    "\n",
    "snapshot_prev_weights_restored = pickle.load(snapshot_file)\n",
    "importance_params_restored = pickle.load(importance_params_file)\n",
    "\n",
    "snapshot_file.close()\n",
    "importance_params_file.close()\n",
    "\n",
    "new_trainer.snapshot_of_prev_task_weights = snapshot_prev_weights_restored\n",
    "new_trainer.prev_tasks_to_final_importance_params = importance_params_restored\n",
    "\n",
    "assert torch.sum(new_trainer.prev_tasks_to_final_importance_params['mnist_task']['fc2.weight']) > 1e-3"
   ]
  },
  {
   "cell_type": "code",
   "execution_count": null,
   "id": "57bfb389-46c3-4272-b346-5ca71bae4a16",
   "metadata": {},
   "outputs": [],
   "source": []
  }
 ],
 "metadata": {
  "kernelspec": {
   "display_name": "Python 3 (User)",
   "language": "python",
   "name": "python3"
  },
  "language_info": {
   "codemirror_mode": {
    "name": "ipython",
    "version": 3
   },
   "file_extension": ".py",
   "mimetype": "text/x-python",
   "name": "python",
   "nbconvert_exporter": "python",
   "pygments_lexer": "ipython3",
   "version": "3.10.10"
  }
 },
 "nbformat": 4,
 "nbformat_minor": 5
}
